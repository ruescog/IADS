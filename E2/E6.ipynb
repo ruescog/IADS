{
  "nbformat": 4,
  "nbformat_minor": 0,
  "metadata": {
    "colab": {
      "name": "E6.ipynb",
      "provenance": [],
      "authorship_tag": "ABX9TyPbVUFpLR6pVzM84C+io9+e",
      "include_colab_link": true
    },
    "kernelspec": {
      "name": "python3",
      "display_name": "Python 3"
    },
    "language_info": {
      "name": "python"
    },
    "widgets": {
      "application/vnd.jupyter.widget-state+json": {
        "7e1b107375bf4096a638726960579246": {
          "model_module": "@jupyter-widgets/controls",
          "model_name": "VBoxModel",
          "state": {
            "_view_name": "VBoxView",
            "_dom_classes": [],
            "_model_name": "VBoxModel",
            "_view_module": "@jupyter-widgets/controls",
            "_model_module_version": "1.5.0",
            "_view_count": null,
            "_view_module_version": "1.5.0",
            "box_style": "",
            "layout": "IPY_MODEL_846c85bc56fa425ca7bdccbec3f94cf2",
            "_model_module": "@jupyter-widgets/controls",
            "children": [
              "IPY_MODEL_945f2355b4f5435daf9f2cb742d37473",
              "IPY_MODEL_1490dcc9497948d6b3db71d20cf14e91",
              "IPY_MODEL_ab3674120adf46c78242e4fa0a7c6293",
              "IPY_MODEL_4335752336824cacbaf8b919ce237da9"
            ]
          }
        },
        "846c85bc56fa425ca7bdccbec3f94cf2": {
          "model_module": "@jupyter-widgets/base",
          "model_name": "LayoutModel",
          "state": {
            "_view_name": "LayoutView",
            "grid_template_rows": null,
            "right": null,
            "justify_content": null,
            "_view_module": "@jupyter-widgets/base",
            "overflow": null,
            "_model_module_version": "1.2.0",
            "_view_count": null,
            "flex_flow": null,
            "width": null,
            "min_width": null,
            "border": null,
            "align_items": null,
            "bottom": null,
            "_model_module": "@jupyter-widgets/base",
            "top": null,
            "grid_column": null,
            "overflow_y": null,
            "overflow_x": null,
            "grid_auto_flow": null,
            "grid_area": null,
            "grid_template_columns": null,
            "flex": null,
            "_model_name": "LayoutModel",
            "justify_items": null,
            "grid_row": null,
            "max_height": null,
            "align_content": null,
            "visibility": null,
            "align_self": null,
            "height": null,
            "min_height": null,
            "padding": null,
            "grid_auto_rows": null,
            "grid_gap": null,
            "max_width": null,
            "order": null,
            "_view_module_version": "1.2.0",
            "grid_template_areas": null,
            "object_position": null,
            "object_fit": null,
            "grid_auto_columns": null,
            "margin": null,
            "display": null,
            "left": null
          }
        },
        "945f2355b4f5435daf9f2cb742d37473": {
          "model_module": "@jupyter-widgets/controls",
          "model_name": "LabelModel",
          "state": {
            "_view_name": "LabelView",
            "style": "IPY_MODEL_c108b785527246119b84fe1da6d20e0f",
            "_dom_classes": [],
            "description": "",
            "_model_name": "LabelModel",
            "placeholder": "​",
            "_view_module": "@jupyter-widgets/controls",
            "_model_module_version": "1.5.0",
            "value": "Sube tu imagen",
            "_view_count": null,
            "_view_module_version": "1.5.0",
            "description_tooltip": null,
            "_model_module": "@jupyter-widgets/controls",
            "layout": "IPY_MODEL_5d48194b26f447f4b10e804215c37874"
          }
        },
        "1490dcc9497948d6b3db71d20cf14e91": {
          "model_module": "@jupyter-widgets/controls",
          "model_name": "FileUploadModel",
          "state": {
            "_view_name": "FileUploadView",
            "_counter": 1,
            "style": "IPY_MODEL_9431971c05054f91819494b9f1177c18",
            "_dom_classes": [],
            "description": "Upload",
            "multiple": false,
            "_model_name": "FileUploadModel",
            "data": [
              null
            ],
            "button_style": "",
            "_view_module": "@jupyter-widgets/controls",
            "_model_module_version": "1.5.0",
            "accept": "",
            "_view_count": null,
            "disabled": false,
            "_view_module_version": "1.5.0",
            "error": "",
            "description_tooltip": null,
            "metadata": [
              {
                "name": "wesxdn0jnn161.jpg",
                "type": "image/jpeg",
                "size": 45573,
                "lastModified": 1620141673442
              }
            ],
            "_model_module": "@jupyter-widgets/controls",
            "layout": "IPY_MODEL_78d3ef293b9344e49ee44ba6ecad405c",
            "icon": "upload"
          }
        },
        "ab3674120adf46c78242e4fa0a7c6293": {
          "model_module": "@jupyter-widgets/output",
          "model_name": "OutputModel",
          "state": {
            "_view_name": "OutputView",
            "msg_id": "",
            "_dom_classes": [],
            "_model_name": "OutputModel",
            "outputs": [
              {
                "output_type": "display_data",
                "metadata": {
                  "tags": []
                },
                "image/png": "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\n",
                "text/plain": "<PIL.Image.Image image mode=RGB size=210x224 at 0x7F919B2C7410>"
              }
            ],
            "_view_module": "@jupyter-widgets/output",
            "_model_module_version": "1.0.0",
            "_view_count": null,
            "_view_module_version": "1.0.0",
            "layout": "IPY_MODEL_92c67d27236646fd98da8167f9abee67",
            "_model_module": "@jupyter-widgets/output"
          }
        },
        "4335752336824cacbaf8b919ce237da9": {
          "model_module": "@jupyter-widgets/controls",
          "model_name": "LabelModel",
          "state": {
            "_view_name": "LabelView",
            "style": "IPY_MODEL_94f0cb266142498fa10833a093ca4daf",
            "_dom_classes": [],
            "description": "",
            "_model_name": "LabelModel",
            "placeholder": "​",
            "_view_module": "@jupyter-widgets/controls",
            "_model_module_version": "1.5.0",
            "value": "Predicción: morritos, probabilidad: 0.8766829371452332",
            "_view_count": null,
            "_view_module_version": "1.5.0",
            "description_tooltip": null,
            "_model_module": "@jupyter-widgets/controls",
            "layout": "IPY_MODEL_4f8b040649f8487f99b61e754e1af6fb"
          }
        },
        "c108b785527246119b84fe1da6d20e0f": {
          "model_module": "@jupyter-widgets/controls",
          "model_name": "DescriptionStyleModel",
          "state": {
            "_view_name": "StyleView",
            "_model_name": "DescriptionStyleModel",
            "description_width": "",
            "_view_module": "@jupyter-widgets/base",
            "_model_module_version": "1.5.0",
            "_view_count": null,
            "_view_module_version": "1.2.0",
            "_model_module": "@jupyter-widgets/controls"
          }
        },
        "5d48194b26f447f4b10e804215c37874": {
          "model_module": "@jupyter-widgets/base",
          "model_name": "LayoutModel",
          "state": {
            "_view_name": "LayoutView",
            "grid_template_rows": null,
            "right": null,
            "justify_content": null,
            "_view_module": "@jupyter-widgets/base",
            "overflow": null,
            "_model_module_version": "1.2.0",
            "_view_count": null,
            "flex_flow": null,
            "width": null,
            "min_width": null,
            "border": null,
            "align_items": null,
            "bottom": null,
            "_model_module": "@jupyter-widgets/base",
            "top": null,
            "grid_column": null,
            "overflow_y": null,
            "overflow_x": null,
            "grid_auto_flow": null,
            "grid_area": null,
            "grid_template_columns": null,
            "flex": null,
            "_model_name": "LayoutModel",
            "justify_items": null,
            "grid_row": null,
            "max_height": null,
            "align_content": null,
            "visibility": null,
            "align_self": null,
            "height": null,
            "min_height": null,
            "padding": null,
            "grid_auto_rows": null,
            "grid_gap": null,
            "max_width": null,
            "order": null,
            "_view_module_version": "1.2.0",
            "grid_template_areas": null,
            "object_position": null,
            "object_fit": null,
            "grid_auto_columns": null,
            "margin": null,
            "display": null,
            "left": null
          }
        },
        "9431971c05054f91819494b9f1177c18": {
          "model_module": "@jupyter-widgets/controls",
          "model_name": "ButtonStyleModel",
          "state": {
            "_view_name": "StyleView",
            "_model_name": "ButtonStyleModel",
            "_view_module": "@jupyter-widgets/base",
            "_model_module_version": "1.5.0",
            "_view_count": null,
            "button_color": null,
            "font_weight": "",
            "_view_module_version": "1.2.0",
            "_model_module": "@jupyter-widgets/controls"
          }
        },
        "78d3ef293b9344e49ee44ba6ecad405c": {
          "model_module": "@jupyter-widgets/base",
          "model_name": "LayoutModel",
          "state": {
            "_view_name": "LayoutView",
            "grid_template_rows": null,
            "right": null,
            "justify_content": null,
            "_view_module": "@jupyter-widgets/base",
            "overflow": null,
            "_model_module_version": "1.2.0",
            "_view_count": null,
            "flex_flow": null,
            "width": null,
            "min_width": null,
            "border": null,
            "align_items": null,
            "bottom": null,
            "_model_module": "@jupyter-widgets/base",
            "top": null,
            "grid_column": null,
            "overflow_y": null,
            "overflow_x": null,
            "grid_auto_flow": null,
            "grid_area": null,
            "grid_template_columns": null,
            "flex": null,
            "_model_name": "LayoutModel",
            "justify_items": null,
            "grid_row": null,
            "max_height": null,
            "align_content": null,
            "visibility": null,
            "align_self": null,
            "height": null,
            "min_height": null,
            "padding": null,
            "grid_auto_rows": null,
            "grid_gap": null,
            "max_width": null,
            "order": null,
            "_view_module_version": "1.2.0",
            "grid_template_areas": null,
            "object_position": null,
            "object_fit": null,
            "grid_auto_columns": null,
            "margin": null,
            "display": null,
            "left": null
          }
        },
        "94f0cb266142498fa10833a093ca4daf": {
          "model_module": "@jupyter-widgets/controls",
          "model_name": "DescriptionStyleModel",
          "state": {
            "_view_name": "StyleView",
            "_model_name": "DescriptionStyleModel",
            "description_width": "",
            "_view_module": "@jupyter-widgets/base",
            "_model_module_version": "1.5.0",
            "_view_count": null,
            "_view_module_version": "1.2.0",
            "_model_module": "@jupyter-widgets/controls"
          }
        },
        "4f8b040649f8487f99b61e754e1af6fb": {
          "model_module": "@jupyter-widgets/base",
          "model_name": "LayoutModel",
          "state": {
            "_view_name": "LayoutView",
            "grid_template_rows": null,
            "right": null,
            "justify_content": null,
            "_view_module": "@jupyter-widgets/base",
            "overflow": null,
            "_model_module_version": "1.2.0",
            "_view_count": null,
            "flex_flow": null,
            "width": null,
            "min_width": null,
            "border": null,
            "align_items": null,
            "bottom": null,
            "_model_module": "@jupyter-widgets/base",
            "top": null,
            "grid_column": null,
            "overflow_y": null,
            "overflow_x": null,
            "grid_auto_flow": null,
            "grid_area": null,
            "grid_template_columns": null,
            "flex": null,
            "_model_name": "LayoutModel",
            "justify_items": null,
            "grid_row": null,
            "max_height": null,
            "align_content": null,
            "visibility": null,
            "align_self": null,
            "height": null,
            "min_height": null,
            "padding": null,
            "grid_auto_rows": null,
            "grid_gap": null,
            "max_width": null,
            "order": null,
            "_view_module_version": "1.2.0",
            "grid_template_areas": null,
            "object_position": null,
            "object_fit": null,
            "grid_auto_columns": null,
            "margin": null,
            "display": null,
            "left": null
          }
        },
        "92c67d27236646fd98da8167f9abee67": {
          "model_module": "@jupyter-widgets/base",
          "model_name": "LayoutModel",
          "state": {
            "_view_name": "LayoutView",
            "grid_template_rows": null,
            "right": null,
            "justify_content": null,
            "_view_module": "@jupyter-widgets/base",
            "overflow": null,
            "_model_module_version": "1.2.0",
            "_view_count": null,
            "flex_flow": null,
            "width": null,
            "min_width": null,
            "border": null,
            "align_items": null,
            "bottom": null,
            "_model_module": "@jupyter-widgets/base",
            "top": null,
            "grid_column": null,
            "overflow_y": null,
            "overflow_x": null,
            "grid_auto_flow": null,
            "grid_area": null,
            "grid_template_columns": null,
            "flex": null,
            "_model_name": "LayoutModel",
            "justify_items": null,
            "grid_row": null,
            "max_height": null,
            "align_content": null,
            "visibility": null,
            "align_self": null,
            "height": null,
            "min_height": null,
            "padding": null,
            "grid_auto_rows": null,
            "grid_gap": null,
            "max_width": null,
            "order": null,
            "_view_module_version": "1.2.0",
            "grid_template_areas": null,
            "object_position": null,
            "object_fit": null,
            "grid_auto_columns": null,
            "margin": null,
            "display": null,
            "left": null
          }
        }
      }
    }
  },
  "cells": [
    {
      "cell_type": "markdown",
      "metadata": {
        "id": "view-in-github",
        "colab_type": "text"
      },
      "source": [
        "<a href=\"https://colab.research.google.com/github/ruescog/IADS/blob/main/E2/E6.ipynb\" target=\"_parent\"><img src=\"https://colab.research.google.com/assets/colab-badge.svg\" alt=\"Open In Colab\"/></a>"
      ]
    },
    {
      "cell_type": "markdown",
      "metadata": {
        "id": "VCa9NM6e2JQj"
      },
      "source": [
        "# Modelo de clasificación de expresiones faciales en el anime usando fine-tuning.\n",
        "\n",
        "En <a href=\"https://github.com/IA2021UR/entregable-2-ruescog/blob/main/E1.ipynb\">este</a> cuadernillo vimos cómo crear un modelo de clasificación de expresiones faciales.\n",
        "\n",
        "En él, usábamos imágenes de Google Imágenes, pero no limpiábamos nuestro dataset y los datos que obteníamos eran bastante mediocres.\n",
        "\n",
        "Por ello, creamos <a href=\"https://github.com/IA2021UR/entregable-2-ruescog/blob/main/E2.ipynb\">este</a> cuadernillo donde limpiamos los datos.\n",
        "\n",
        "Después, en <a href=\"https://github.com/IA2021UR/entregable-2-ruescog/blob/main/E3.ipynb\">este</a> cuadernillo, creamos el mejor modelo posible usando distintas estructuras.\n",
        "\n",
        "Siguiendo los pasos de <a href=\"https://sgugger.github.io/how-do-you-find-a-good-learning-rate.html#how-do-you-find-a-good-learning-rate\">Sylvain Gugger</a>, logramos obtener nuestro mejor modelo.\n",
        "\n",
        "Ahora, usando <a href=\"\">este</a> tutorial, crearemos una aplicación para poder utilizar nuestro mejor modelo."
      ]
    },
    {
      "cell_type": "markdown",
      "metadata": {
        "id": "ZSDe7tjq2Vyc"
      },
      "source": [
        "# Preparación del entorno de trabajo\n",
        "\n",
        "Descargamos las librerías necesarias e importamos el modelo."
      ]
    },
    {
      "cell_type": "code",
      "metadata": {
        "colab": {
          "base_uri": "https://localhost:8080/"
        },
        "id": "CIKxl3Gz2iDL",
        "outputId": "cb110f53-f362-4afa-c6f4-410e1c10c9eb"
      },
      "source": [
        "!pip install fastai --upgrade -q"
      ],
      "execution_count": null,
      "outputs": [
        {
          "output_type": "stream",
          "text": [
            "\u001b[K     |████████████████████████████████| 204kB 6.8MB/s \n",
            "\u001b[K     |████████████████████████████████| 61kB 6.8MB/s \n",
            "\u001b[?25h"
          ],
          "name": "stdout"
        }
      ]
    },
    {
      "cell_type": "code",
      "metadata": {
        "id": "G678xYct2JE7"
      },
      "source": [
        "from fastai.vision.all import *\n",
        "from fastai.vision.widgets import *"
      ],
      "execution_count": null,
      "outputs": []
    },
    {
      "cell_type": "code",
      "metadata": {
        "id": "QFzrfmQ98GzE",
        "colab": {
          "base_uri": "https://localhost:8080/"
        },
        "outputId": "13c18282-0f65-4d5c-f1ac-fcd0c6273790"
      },
      "source": [
        "!wget https://github.com/ruescog/IADS/raw/main/E2/best_model.pkl -O modelo.pkl"
      ],
      "execution_count": null,
      "outputs": [
        {
          "output_type": "stream",
          "text": [
            "--2021-05-04 15:14:15--  https://github.com/ruescog/IADS/raw/main/E2/best_model.pkl\n",
            "Resolving github.com (github.com)... 140.82.112.3\n",
            "Connecting to github.com (github.com)|140.82.112.3|:443... connected.\n",
            "HTTP request sent, awaiting response... 302 Found\n",
            "Location: https://raw.githubusercontent.com/ruescog/IADS/main/E2/best_model.pkl [following]\n",
            "--2021-05-04 15:14:15--  https://raw.githubusercontent.com/ruescog/IADS/main/E2/best_model.pkl\n",
            "Resolving raw.githubusercontent.com (raw.githubusercontent.com)... 185.199.109.133, 185.199.108.133, 185.199.110.133, ...\n",
            "Connecting to raw.githubusercontent.com (raw.githubusercontent.com)|185.199.109.133|:443... connected.\n",
            "HTTP request sent, awaiting response... 200 OK\n",
            "Length: 5103607 (4.9M) [application/octet-stream]\n",
            "Saving to: ‘modelo.pkl’\n",
            "\n",
            "modelo.pkl          100%[===================>]   4.87M  29.9MB/s    in 0.2s    \n",
            "\n",
            "2021-05-04 15:14:16 (29.9 MB/s) - ‘modelo.pkl’ saved [5103607/5103607]\n",
            "\n"
          ],
          "name": "stdout"
        }
      ]
    },
    {
      "cell_type": "markdown",
      "metadata": {
        "id": "WeYYze5J2mQL"
      },
      "source": [
        "# Aplicación"
      ]
    },
    {
      "cell_type": "code",
      "metadata": {
        "id": "u-4Cw6Ca2HsZ"
      },
      "source": [
        "ruta = Path()\n",
        "modelo = load_learner(ruta/\"modelo.pkl\")\n",
        "\n",
        "upload = widgets.FileUpload()\n",
        "fichero = widgets.Output()\n",
        "etiqueta = widgets.Label()"
      ],
      "execution_count": null,
      "outputs": []
    },
    {
      "cell_type": "markdown",
      "metadata": {
        "id": "rYnTLvLh3bfs"
      },
      "source": [
        "# Interfaz"
      ]
    },
    {
      "cell_type": "code",
      "metadata": {
        "id": "-RUjaHjD3dRj"
      },
      "source": [
        "def on_data_change(change):\n",
        "  etiqueta.value = \"\"\n",
        "\n",
        "  img = PILImage.create(upload.data[-1])\n",
        "  fichero.clear_output()\n",
        "  with fichero:\n",
        "    display(img.to_thumb(224, 244))\n",
        "  \n",
        "  prediccion, indice, probabilidad = modelo.predict(img)\n",
        "  etiqueta.value = f\"Predicción: {prediccion}, probabilidad: {probabilidad[indice]}\""
      ],
      "execution_count": null,
      "outputs": []
    },
    {
      "cell_type": "code",
      "metadata": {
        "id": "PLSPzn5G8dqU",
        "colab": {
          "base_uri": "https://localhost:8080/",
          "height": 337,
          "referenced_widgets": [
            "7e1b107375bf4096a638726960579246",
            "846c85bc56fa425ca7bdccbec3f94cf2",
            "945f2355b4f5435daf9f2cb742d37473",
            "1490dcc9497948d6b3db71d20cf14e91",
            "ab3674120adf46c78242e4fa0a7c6293",
            "4335752336824cacbaf8b919ce237da9",
            "c108b785527246119b84fe1da6d20e0f",
            "5d48194b26f447f4b10e804215c37874",
            "9431971c05054f91819494b9f1177c18",
            "78d3ef293b9344e49ee44ba6ecad405c",
            "94f0cb266142498fa10833a093ca4daf",
            "4f8b040649f8487f99b61e754e1af6fb",
            "92c67d27236646fd98da8167f9abee67"
          ]
        },
        "outputId": "38654b2a-0ecc-4905-eb14-c360095632cc"
      },
      "source": [
        "upload.observe(on_data_change, names=[\"data\"])\n",
        "display(VBox([widgets.Label(\"Sube tu imagen\"), upload, fichero, etiqueta]))"
      ],
      "execution_count": null,
      "outputs": [
        {
          "output_type": "display_data",
          "data": {
            "application/vnd.jupyter.widget-view+json": {
              "model_id": "7e1b107375bf4096a638726960579246",
              "version_minor": 0,
              "version_major": 2
            },
            "text/plain": [
              "VBox(children=(Label(value='Sube tu imagen'), FileUpload(value={}, description='Upload'), Output(), Label(valu…"
            ]
          },
          "metadata": {
            "tags": []
          }
        },
        {
          "output_type": "display_data",
          "data": {
            "text/html": [
              ""
            ],
            "text/plain": [
              "<IPython.core.display.HTML object>"
            ]
          },
          "metadata": {
            "tags": []
          }
        }
      ]
    }
  ]
}